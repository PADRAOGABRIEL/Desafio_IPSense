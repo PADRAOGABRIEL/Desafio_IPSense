{
 "cells": [
  {
   "cell_type": "code",
   "execution_count": 10,
   "metadata": {},
   "outputs": [],
   "source": [
    "import requests\n",
    "import pandas as pd\n",
    "from datetime import datetime, timedelta\n",
    "from keys import nasa_key"
   ]
  },
  {
   "cell_type": "markdown",
   "metadata": {},
   "source": [
    "Tratando a api e gerando uma lista com os dados que foram selecionados  \n",
    "\n",
    "Criando uma nova função para consumir a api para pegarmos dados do último ano (365 dias), já que o máximo que a api consegue extrair é 7 dias por vez"
   ]
  },
  {
   "cell_type": "code",
   "execution_count": 11,
   "metadata": {},
   "outputs": [],
   "source": [
    "# Chave gerada para acessar a API da Nasa\n",
    "nasa_key = nasa_key\n",
    "\n",
    "# Url API Nasa\n",
    "base_url = 'https://api.nasa.gov/neo/rest/v1/feed'\n",
    "\n",
    "# Configuração de 365 dias e intervalo de 7 dias\n",
    "total_days = 365\n",
    "interval_days = 7\n",
    "\n",
    "# Lista para armazenar todos os dados de asteroides\n",
    "year_asteroids = []\n",
    "\n",
    "# Loop para dividir a solicitação em intervalos de 7 dias\n",
    "for i in range(0, total_days, interval_days):\n",
    "    end_date = (datetime.now() - timedelta(days=i)).strftime('%Y-%m-%d')\n",
    "    start_date = (datetime.now() - timedelta(days=i + interval_days - 1)).strftime('%Y-%m-%d')\n",
    "    \n",
    "    params = {\n",
    "        'start_date': start_date,\n",
    "        'end_date': end_date,\n",
    "        'api_key': nasa_key\n",
    "    }\n",
    "    \n",
    "    # Fazer a requisição\n",
    "    response = requests.get(base_url, params=params)\n",
    "    data = response.json()\n",
    "\n",
    "    # Processar os dados de cada asteroide, adicionando ao year_asteroids\n",
    "    for date in data['near_earth_objects']:\n",
    "        for asteroid in data['near_earth_objects'][date]:\n",
    "            year_asteroids.append({\n",
    "                'name': asteroid['name'],\n",
    "                'close_approach_date': asteroid['close_approach_data'][0]['close_approach_date'],\n",
    "                'miss_distance_km': float(asteroid['close_approach_data'][0]['miss_distance']['kilometers']),\n",
    "                'relative_velocity_kmh': float(asteroid['close_approach_data'][0]['relative_velocity']['kilometers_per_hour']),\n",
    "                'is_potentially_hazardous': asteroid['is_potentially_hazardous_asteroid'],\n",
    "                'absolute_magnitude_h': asteroid['absolute_magnitude_h'],\n",
    "                'estimated_diameter_min': asteroid['estimated_diameter']['meters']['estimated_diameter_min'],\n",
    "                'estimated_diameter_max': asteroid['estimated_diameter']['meters']['estimated_diameter_max'],\n",
    "                'is_sentry_object': asteroid.get('is_sentry_object', False)\n",
    "            })"
   ]
  },
  {
   "cell_type": "markdown",
   "metadata": {},
   "source": [
    "### Explicando as variáveis  \n",
    "**name**: Nome dado ao asteroide.\n",
    "\n",
    "**close_approach_date**: Data em que se aproximou da Terra.\n",
    "\n",
    "**relative_velocity_kmh**: Velocidade do asteroide. Velocidades maiores podem aumentar a energia do impacto, caso ele ocorra.\n",
    "\n",
    "**estimated_diameter_min** e **estimated_diameter_max**: Intervalo de diâmetro estimado. Asteroides maiores tendem a ter um impacto mais significativo se colidirem com a Terra, o que pode correlacionar com o potencial de risco.\n",
    "\n",
    "**estimated_diameter_mean**: Média entre diâmetro mínimo e diâmetro máximo estimado.\n",
    "\n",
    "**miss_distance_km**: Distância mínima entre o asteroide e a Terra durante a passagem. Asteroides com menor distância de aproximação podem ser considerados mais arriscados.\n",
    "\n",
    "**is_potentially_hazardous**: Diz se é potencialmente perigou ou não.\n",
    "\n",
    "**absolute_magnitude_h**: Brilho absoluto do asteroide, que pode estar relacionado ao seu tamanho e ao potencial de perigo.\n",
    "\n",
    "**is_sentry_object**: Indica se o asteroide é monitorado por ter risco de colisão."
   ]
  },
  {
   "cell_type": "markdown",
   "metadata": {},
   "source": [
    "Gerando um DataFrame a partir do 'year_asteroids'"
   ]
  },
  {
   "cell_type": "code",
   "execution_count": 12,
   "metadata": {},
   "outputs": [],
   "source": [
    "df_asteroids = pd.DataFrame(year_asteroids)"
   ]
  },
  {
   "cell_type": "markdown",
   "metadata": {},
   "source": [
    "Armazenando o DataFrame em um csv na pasta 'data'"
   ]
  },
  {
   "cell_type": "code",
   "execution_count": 13,
   "metadata": {},
   "outputs": [],
   "source": [
    "df_asteroids.to_csv('../data/df_asteroids.csv')"
   ]
  }
 ],
 "metadata": {
  "kernelspec": {
   "display_name": "Python 3",
   "language": "python",
   "name": "python3"
  },
  "language_info": {
   "codemirror_mode": {
    "name": "ipython",
    "version": 3
   },
   "file_extension": ".py",
   "mimetype": "text/x-python",
   "name": "python",
   "nbconvert_exporter": "python",
   "pygments_lexer": "ipython3",
   "version": "3.11.2"
  }
 },
 "nbformat": 4,
 "nbformat_minor": 2
}
